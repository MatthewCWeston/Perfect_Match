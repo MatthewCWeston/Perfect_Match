{
  "nbformat": 4,
  "nbformat_minor": 0,
  "metadata": {
    "colab": {
      "name": "Matching_Algo.ipynb",
      "provenance": []
    },
    "kernelspec": {
      "name": "python3",
      "display_name": "Python 3"
    },
    "language_info": {
      "name": "python"
    }
  },
  "cells": [
    {
      "cell_type": "code",
      "execution_count": 229,
      "metadata": {
        "id": "Mhtx5pPT5jLm"
      },
      "outputs": [],
      "source": [
        "import numpy as np\n",
        "from tqdm import tqdm"
      ]
    },
    {
      "cell_type": "code",
      "source": [
        "# Problem: You need to find the correct ordering of a list of numbers\n",
        "# at each step, you know how many numbers are in the right place, but nothing else.\n",
        "\n",
        "# Look up mastermind AI for ideas\n",
        "# This is probably a solved problem.\n",
        "\n",
        "# Mastermind: Five-guess algorithm for worst-case; Donald Knuth\n",
        "# http://www.cs.uni.edu/~wallingf/teaching/cs3530/resources/knuth-mastermind.pdf\n",
        "# Start with set S of all possible codes (length^4), length! in our case\n",
        "# Start with initial guess 1122 (duplicates are not allowed in our setup)\n",
        "#     Note! Because we can't repeat guesses, every initial guess is provably equally valid.\n",
        "# Remove from S any option that is incompatible with the observed responses\n",
        "# Select the guess that minimizes the maximum number of options in S that can remain valid after guessing it\n",
        "# (this means that, assuming the worst-case scenario, we want to eliminate as much of S as possible)\n",
        "#     ^^ The guess itself may not be in S, mind you. S is simply the set we want to reduce.\n",
        "# Repeat. Basically just apply the Minimax algorithm.\n",
        "\n",
        "# Let's try this algorithm. We can't repeat guesses, but other than that it should be viable.\n",
        "# A bit difficult computationally.\n",
        "# For each possible guess, after each guess:\n",
        "# Check against each previous guess\n",
        "# Does score match with number of matches? If so, match is possible.\n",
        "# We can try this alone as a naive algorithm.\n",
        "\n",
        "# Past that, here's how we can calculate worst-case score.\n",
        "# For each guess in S, assume that the solution is any other guess in S\n",
        "# Bin them by score.\n",
        "# Size of the largest bin is the worst-case size.\n",
        "\n",
        "# Alternatively:\n",
        "# Could a genetic algorithm perform well?\n",
        "# There do seem to be papers on it - as I suspected, scalability is its main attractive feature.\n",
        "# \n",
        "'''\n",
        "\n",
        "  https://www.ics.uci.edu/~goodrich/pubs/ipl.pdf\n",
        "  On the Algorithmic Complexity of the Mastermind\n",
        "  Game with Black-Peg Results\n",
        "   - This is a similar task - the core difference is that we know that there are not two of any peg.\n",
        "'''\n",
        "#\n",
        "pass"
      ],
      "metadata": {
        "id": "BJk_JP32RPeo"
      },
      "execution_count": 230,
      "outputs": []
    },
    {
      "cell_type": "code",
      "source": [
        "# Run a simulation\n",
        "def runSimulation(size, sol): # Take a size and a solution class\n",
        "  solution = np.arange(size)\n",
        "  np.random.shuffle(solution)\n",
        "  model = sol(size)\n",
        "  attempts = 0\n",
        "  attempt = None\n",
        "  prev_score = None\n",
        "  while (True):\n",
        "    attempts += 1\n",
        "    attempt = model.predict(prev_score)\n",
        "    prev_score = np.sum(attempt==solution)\n",
        "    if (prev_score == size):\n",
        "      break\n",
        "  return attempts # number of attempts to reach a correct solution\n",
        "    \n",
        "def avgSimulation(size, sol, trials=1000):\n",
        "  sum = 0\n",
        "  for i in tqdm(range(trials)):\n",
        "    sum += runSimulation(size, sol)\n",
        "  return sum / trials"
      ],
      "metadata": {
        "id": "zIoizZfr-8RP"
      },
      "execution_count": 231,
      "outputs": []
    },
    {
      "cell_type": "code",
      "source": [
        "# Generic class for a solution.\n",
        "# Has one function, to make a prediction.\n",
        "class Solution:\n",
        "  def __init__(self, size): # Init only takes the size of the set we're working with\n",
        "    self.size = size\n",
        "    pass\n",
        "  def predict(self, prev_score): # Takes the score of the previous prediction.\n",
        "    pred = np.range(self.size)\n",
        "    np.random.shuffle(pred)\n",
        "    return pred # make a random guess\n",
        "\n",
        "# Iterate through each possible ordering\n",
        "# Averages 360 tries for a trial of size 6\n",
        "class ExhaustiveSolution(Solution):\n",
        "  def __init__(self, size): # Init only takes the size of the set we're working with\n",
        "    self.size = size\n",
        "    self.count = 0\n",
        "    self.num_pos = np.math.factorial(self.size)\n",
        "    self.range = list(range(size))\n",
        "  def predict(self, prev_score): # Takes the score of the previous prediction.\n",
        "    prediction = []\n",
        "    x = self.size\n",
        "    rem = self.count\n",
        "    l = self.range.copy()\n",
        "    while (x > 0):\n",
        "      f = np.math.factorial(x-1)\n",
        "      ix = rem // f\n",
        "      prediction.append(l[ix])\n",
        "      del l[ix]\n",
        "      rem = rem % f\n",
        "      x -= 1\n",
        "    self.count += 1\n",
        "    return np.array(prediction)\n",
        "\n",
        "def populate_array(start, rem): # Take the first part of an array and all remaining numbers to be added\n",
        "    # For each value in rem, add it to start, \n",
        "    result = []\n",
        "    if (len(rem)==0):\n",
        "      return [start]\n",
        "    for i in range(len(rem)):\n",
        "      r = rem.copy()\n",
        "      st = start.copy()\n",
        "      st.append(r[i])\n",
        "      del r[i]\n",
        "      result.extend(populate_array(st, r))\n",
        "    return result\n",
        "\n",
        "# Eliminate impossible guesses, pick arbitrarily from those that remain.\n",
        "# Average 26.388 tries for a trial of size 6\n",
        "class NaiveKnuth(Solution):\n",
        "  def __init__(self, size): # Init only takes the size of the set we're working with\n",
        "    self.size = size\n",
        "    self.count = 0\n",
        "    self.range = list(range(size))\n",
        "    self.solutions = np.array(populate_array([], list(range(size)))) # Every possible permutation\n",
        "    self.prev_solution = None\n",
        "\n",
        "  def predict(self, prev_score): # Takes the score of the previous prediction.\n",
        "    if (prev_score is not None):\n",
        "      # If the number of common values is less than the score, discard.\n",
        "      common_values = np.sum(self.prev_solution==self.solutions, axis=1)\n",
        "      # Must have exactly as many differences as points\n",
        "      valid_solutions = common_values == prev_score \n",
        "      self.solutions = self.solutions[valid_solutions]\n",
        "    self.prev_solution = self.solutions[0]\n",
        "    return self.prev_solution\n",
        "\n",
        "def getMaxBin(index, solutions, all_solutions):\n",
        "  s = all_solutions[index]\n",
        "  k = solutions.copy()\n",
        "  scores = np.sum(solutions==s, axis=1)\n",
        "  _, b = np.unique(scores, return_counts=True)\n",
        "  return np.max(b) # The max count is the score. We want the minimum score\n",
        "  #return np.sum(b**2) / np.sum(b) # Target expected count?\n",
        "\n",
        "def getBestIndex(solutions, all_solutions, possible):\n",
        "  minCost = np.inf\n",
        "  minIx = -1\n",
        "  for i in range(len(all_solutions)):\n",
        "    cost = getMaxBin(i, solutions, all_solutions)\n",
        "    if (cost < minCost or ((cost == minCost) and (possible[i]==True))):\n",
        "      minCost = cost\n",
        "      minIx = i\n",
        "  return minIx\n",
        "\n",
        "# Same as above, except we take every remaining solution and every possible score\n",
        "# and bin the remaining solutions based on score\n",
        "# and then minimize the size of the largest bin\n",
        "# We can also guess \n",
        "# Average x tries for a trial of size 6\n",
        "class Knuth(Solution):\n",
        "  def __init__(self, size): # Init only takes the size of the set we're working with\n",
        "    self.size = size\n",
        "    self.count = 0\n",
        "    self.range = list(range(size))\n",
        "    self.solutions = np.array(populate_array([], list(range(size)))) # Every possible permutation\n",
        "    self.all_solutions = self.solutions.copy()\n",
        "    self.prev_solution = None\n",
        "    self.prev_ix = None\n",
        "    self.possible = np.full(len(self.solutions), True)\n",
        "    self.pos_ix = np.arange(len(self.solutions))\n",
        "\n",
        "  def predict(self, prev_score): # Takes the score of the previous prediction.\n",
        "    if (prev_score is not None): # Clear eliminated solutions\n",
        "      # If the number of common values is less than the score, discard.\n",
        "      common_values = np.sum(self.prev_solution==self.solutions, axis=1)\n",
        "      # Must have exactly as many differences as points\n",
        "      valid_solutions = common_values == prev_score \n",
        "      #\n",
        "      self.possible[self.pos_ix[np.invert(valid_solutions)]] = False\n",
        "      self.pos_ix = self.pos_ix[valid_solutions] \n",
        "      #\n",
        "      self.solutions = self.solutions[valid_solutions]\n",
        "    # Now that our solution set is filtered, get the best index.\n",
        "    self.prev_ix = getBestIndex(self.solutions, self.all_solutions, self.possible)\n",
        "    self.count += 1\n",
        "    #\n",
        "    self.prev_solution = self.all_solutions[self.prev_ix]\n",
        "    return self.prev_solution"
      ],
      "metadata": {
        "id": "1CTtG_IWBjRd"
      },
      "execution_count": 214,
      "outputs": []
    },
    {
      "cell_type": "code",
      "source": [
        "#avgSimulation(6, ExhaustiveSolution) # 360\n",
        "avgSimulation(6, Knuth, trials=10000)"
      ],
      "metadata": {
        "colab": {
          "base_uri": "https://localhost:8080/"
        },
        "id": "z7e_3v5Hvsmt",
        "outputId": "cfa1d55f-379d-45b9-9e89-cdf68a0f3335"
      },
      "execution_count": 237,
      "outputs": [
        {
          "output_type": "stream",
          "name": "stderr",
          "text": [
            "100%|██████████| 10000/10000 [37:34<00:00,  4.44it/s]\n"
          ]
        },
        {
          "output_type": "execute_result",
          "data": {
            "text/plain": [
              "5.6592"
            ]
          },
          "metadata": {},
          "execution_count": 237
        }
      ]
    },
    {
      "cell_type": "code",
      "source": [
        "avgSimulation(6, NaiveKnuth, trials=10000)"
      ],
      "metadata": {
        "id": "E_Mp_ISNvwHD",
        "colab": {
          "base_uri": "https://localhost:8080/"
        },
        "outputId": "8b37a440-95c0-4d78-b13d-95e8ba1302ad"
      },
      "execution_count": 236,
      "outputs": [
        {
          "output_type": "stream",
          "name": "stderr",
          "text": [
            "100%|██████████| 10000/10000 [00:28<00:00, 346.42it/s]\n"
          ]
        },
        {
          "output_type": "execute_result",
          "data": {
            "text/plain": [
              "5.8899"
            ]
          },
          "metadata": {},
          "execution_count": 236
        }
      ]
    },
    {
      "cell_type": "code",
      "source": [
        ""
      ],
      "metadata": {
        "id": "k3ZmyVXIjqTH"
      },
      "execution_count": null,
      "outputs": []
    }
  ]
}